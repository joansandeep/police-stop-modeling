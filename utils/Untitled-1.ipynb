{
 "cells": [
  {
   "cell_type": "code",
   "execution_count": 2,
   "id": "f94e2257",
   "metadata": {},
   "outputs": [
    {
     "name": "stderr",
     "output_type": "stream",
     "text": [
      "C:\\Users\\joans\\AppData\\Local\\Temp\\ipykernel_5076\\2614947416.py:2: DtypeWarning: Columns (6) have mixed types. Specify dtype option on import or set low_memory=False.\n",
      "  df = pd.read_csv('data/ca_san_francisco_2020_04_01.csv')\n"
     ]
    }
   ],
   "source": [
    "import pandas as pd\n",
    "df = pd.read_csv('data/ca_san_francisco_2020_04_01.csv')"
   ]
  },
  {
   "cell_type": "code",
   "execution_count": 3,
   "id": "33fd8854",
   "metadata": {},
   "outputs": [
    {
     "name": "stdout",
     "output_type": "stream",
     "text": [
      "0\n",
      "search_conducted\n",
      "False    851689\n",
      "True      53381\n",
      "Name: count, dtype: int64\n"
     ]
    }
   ],
   "source": [
    "print(df['search_conducted'].isnull().sum())\n",
    "print(df['search_conducted'].value_counts())"
   ]
  },
  {
   "cell_type": "code",
   "execution_count": 5,
   "id": "42844bd4",
   "metadata": {},
   "outputs": [
    {
     "name": "stdout",
     "output_type": "stream",
     "text": [
      "arrest_made\n",
      "False    0.986824\n",
      "True     0.013176\n",
      "Name: proportion, dtype: float64\n"
     ]
    }
   ],
   "source": [
    "print(df['arrest_made'].value_counts(normalize=True))\n"
   ]
  },
  {
   "cell_type": "code",
   "execution_count": 4,
   "id": "db299c47",
   "metadata": {},
   "outputs": [
    {
     "name": "stdout",
     "output_type": "stream",
     "text": [
      "                      search_conducted_bin  arrest_made\n",
      "search_conducted_bin                   NaN          NaN\n",
      "arrest_made                            NaN          1.0\n",
      "search_conducted\n",
      "False    0.005550\n",
      "True     0.134842\n",
      "Name: arrest_made, dtype: float64\n"
     ]
    }
   ],
   "source": [
    "# If 'search_conducted' is categorical (e.g., 'Yes'/'No'), map to 0/1 first\n",
    "df['search_conducted_bin'] = df['search_conducted'].map({'Yes': 1, 'No': 0})\n",
    "\n",
    "# Check correlation\n",
    "print(df[['search_conducted_bin', 'arrest_made']].corr())\n",
    "\n",
    "# Or compare average arrest rate for each value\n",
    "print(df.groupby('search_conducted')['arrest_made'].mean())\n"
   ]
  },
  {
   "cell_type": "code",
   "execution_count": 1,
   "id": "98542c76",
   "metadata": {},
   "outputs": [
    {
     "name": "stdout",
     "output_type": "stream",
     "text": [
      "True\n",
      "1\n",
      "tensor([0.4973], device='cuda:0')\n"
     ]
    }
   ],
   "source": [
    "import torch\n",
    "print(torch.cuda.is_available())\n",
    "print(torch.cuda.device_count())\n",
    "print(torch.rand(1).cuda())"
   ]
  },
  {
   "cell_type": "code",
   "execution_count": null,
   "id": "7f9e5bfd",
   "metadata": {},
   "outputs": [],
   "source": []
  }
 ],
 "metadata": {
  "kernelspec": {
   "display_name": "Python 3",
   "language": "python",
   "name": "python3"
  },
  "language_info": {
   "codemirror_mode": {
    "name": "ipython",
    "version": 3
   },
   "file_extension": ".py",
   "mimetype": "text/x-python",
   "name": "python",
   "nbconvert_exporter": "python",
   "pygments_lexer": "ipython3",
   "version": "3.12.4"
  }
 },
 "nbformat": 4,
 "nbformat_minor": 5
}
