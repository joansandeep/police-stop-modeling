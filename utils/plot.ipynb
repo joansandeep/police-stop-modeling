{
 "cells": [
  {
   "cell_type": "code",
   "execution_count": null,
   "id": "c250a18f",
   "metadata": {},
   "outputs": [],
   "source": [
    "import matplotlib.pyplot as plt\n",
    "import pandas as pd\n"
   ]
  }
 ],
 "metadata": {
  "language_info": {
   "name": "python"
  }
 },
 "nbformat": 4,
 "nbformat_minor": 5
}
